{
  "nbformat": 4,
  "nbformat_minor": 0,
  "metadata": {
    "colab": {
      "provenance": []
    },
    "kernelspec": {
      "name": "python3",
      "display_name": "Python 3"
    },
    "language_info": {
      "name": "python"
    }
  },
  "cells": [
    {
      "cell_type": "code",
      "execution_count": 5,
      "metadata": {
        "colab": {
          "base_uri": "https://localhost:8080/"
        },
        "id": "Cbt7o4o5HrfQ",
        "outputId": "3bec41bc-c5d5-4c0a-cb68-98b197300d45"
      },
      "outputs": [
        {
          "output_type": "stream",
          "name": "stderr",
          "text": [
            "Gym has been unmaintained since 2022 and does not support NumPy 2.0 amongst other critical functionality.\n",
            "Please upgrade to Gymnasium, the maintained drop-in replacement of Gym, or contact the authors of your software and request that they upgrade.\n",
            "See the migration guide at https://gymnasium.farama.org/introduction/migration_guide/ for additional information.\n"
          ]
        }
      ],
      "source": [
        "import warnings ; warnings.filterwarnings('ignore')\n",
        "\n",
        "import gym\n",
        "import numpy as np\n",
        "\n",
        "import random\n",
        "import warnings\n",
        "\n",
        "warnings.filterwarnings('ignore', category=DeprecationWarning)\n",
        "np.set_printoptions(suppress=True)\n",
        "random.seed(123); np.random.seed(123)"
      ]
    },
    {
      "cell_type": "code",
      "source": [
        "pip install git+https://github.com/mimoralea/gym-walk#egg=gym-walk"
      ],
      "metadata": {
        "colab": {
          "base_uri": "https://localhost:8080/"
        },
        "id": "TOlS9HOPIkdk",
        "outputId": "a35ec366-88a1-4f3d-a88d-a483e09e3c2a"
      },
      "execution_count": 6,
      "outputs": [
        {
          "output_type": "stream",
          "name": "stdout",
          "text": [
            "Collecting gym-walk\n",
            "  Cloning https://github.com/mimoralea/gym-walk to /tmp/pip-install-7oa8cdmp/gym-walk_9ac33c6252a84831acd505e3e920607d\n",
            "  Running command git clone --filter=blob:none --quiet https://github.com/mimoralea/gym-walk /tmp/pip-install-7oa8cdmp/gym-walk_9ac33c6252a84831acd505e3e920607d\n",
            "  Resolved https://github.com/mimoralea/gym-walk to commit b915b94cf2ad16f8833a1ad92ea94e88159279f5\n",
            "  Preparing metadata (setup.py) ... \u001b[?25l\u001b[?25hdone\n",
            "Requirement already satisfied: gym in /usr/local/lib/python3.12/dist-packages (from gym-walk) (0.25.2)\n",
            "Requirement already satisfied: numpy>=1.18.0 in /usr/local/lib/python3.12/dist-packages (from gym->gym-walk) (2.0.2)\n",
            "Requirement already satisfied: cloudpickle>=1.2.0 in /usr/local/lib/python3.12/dist-packages (from gym->gym-walk) (3.1.1)\n",
            "Requirement already satisfied: gym-notices>=0.0.4 in /usr/local/lib/python3.12/dist-packages (from gym->gym-walk) (0.1.0)\n",
            "Building wheels for collected packages: gym-walk\n",
            "  Building wheel for gym-walk (setup.py) ... \u001b[?25l\u001b[?25hdone\n",
            "  Created wheel for gym-walk: filename=gym_walk-0.0.2-py3-none-any.whl size=5377 sha256=a2ce3e8b82782239d65d6e535a25567a735da2187cde6b3955d0f11459d114d7\n",
            "  Stored in directory: /tmp/pip-ephem-wheel-cache-1ic5icoj/wheels/bf/23/e5/a94be4a90dd18f7ce958c21f192276cb01ef0daaf2bc66583b\n",
            "Successfully built gym-walk\n",
            "Installing collected packages: gym-walk\n",
            "Successfully installed gym-walk-0.0.2\n"
          ]
        }
      ]
    },
    {
      "cell_type": "code",
      "source": [
        "def print_policy(pi, P, action_symbols=('<', 'v', '>', '^'), n_cols=4, title='Policy:'):\n",
        "    print(title)\n",
        "    arrs = {k:v for k,v in enumerate(action_symbols)}\n",
        "    for s in range(len(P)):\n",
        "        a = pi(s)\n",
        "        print(\"| \", end=\"\")\n",
        "        if np.all([done for action in P[s].values() for _, _, _, done in action]):\n",
        "            print(\"\".rjust(9), end=\" \")\n",
        "        else:\n",
        "            print(str(s).zfill(2), arrs[a].rjust(6), end=\" \")\n",
        "        if (s + 1) % n_cols == 0: print(\"|\")"
      ],
      "metadata": {
        "id": "EF5IaAexIoD2"
      },
      "execution_count": 7,
      "outputs": []
    },
    {
      "cell_type": "code",
      "source": [
        "def print_state_value_function(V, P, n_cols=4, prec=3, title='State-value function:'):\n",
        "    print(title)\n",
        "    for s in range(len(P)):\n",
        "        v = V[s]\n",
        "        print(\"| \", end=\"\")\n",
        "        if np.all([done for action in P[s].values() for _, _, _, done in action]):\n",
        "            print(\"\".rjust(9), end=\" \")\n",
        "        else:\n",
        "            print(str(s).zfill(2), '{}'.format(np.round(v, prec)).rjust(6), end=\" \")\n",
        "        if (s + 1) % n_cols == 0: print(\"|\")"
      ],
      "metadata": {
        "id": "FpFKbR5wIqST"
      },
      "execution_count": 8,
      "outputs": []
    },
    {
      "cell_type": "code",
      "source": [
        "def probability_success(env, pi, goal_state, n_episodes=100, max_steps=200):\n",
        "    import random, numpy as np\n",
        "\n",
        "    random.seed(123)\n",
        "    np.random.seed(123)\n",
        "    env.seed(123)\n",
        "\n",
        "    results = []\n",
        "    for _ in range(n_episodes):\n",
        "        state, done, steps = env.reset(), False, 0\n",
        "        while not done and steps < max_steps:\n",
        "            state, _, done, _ = env.step(pi(state))\n",
        "            steps += 1\n",
        "        results.append(state == goal_state)\n",
        "\n",
        "    results_array = np.array(results, dtype=np.bool_)\n",
        "    return np.sum(results_array) / len(results_array)\n"
      ],
      "metadata": {
        "id": "caFPk9moIwmm"
      },
      "execution_count": 23,
      "outputs": []
    },
    {
      "cell_type": "code",
      "source": [
        "def mean_return(env, pi, n_episodes=100, max_steps=200):\n",
        "    random.seed(123); np.random.seed(123) ; env.seed(123)\n",
        "    results = []\n",
        "    for _ in range(n_episodes):\n",
        "        state, done, steps = env.reset(), False, 0\n",
        "        results.append(0.0)\n",
        "        while not done and steps < max_steps:\n",
        "            state, reward, done, _ = env.step(pi(state))\n",
        "            results[-1] += reward\n",
        "            steps += 1\n",
        "    return np.mean(results)"
      ],
      "metadata": {
        "id": "ItxzFjHBI2a8"
      },
      "execution_count": 10,
      "outputs": []
    },
    {
      "cell_type": "markdown",
      "source": [
        "**CREATING** **THE** **FROZEN** **LAKE** **ENVIRONMENT**"
      ],
      "metadata": {
        "id": "9_v51GOgJCSm"
      }
    },
    {
      "cell_type": "code",
      "source": [
        "envdesc  = ['HFFF','HSFF','FFGH', 'FHFH']\n",
        "env = gym.make('FrozenLake-v1',desc=envdesc)\n",
        "init_state = env.reset()\n",
        "goal_state = 10\n",
        "P = env.env.P"
      ],
      "metadata": {
        "id": "kB13zAFGJBcW"
      },
      "execution_count": 18,
      "outputs": []
    },
    {
      "cell_type": "code",
      "source": [
        "def value_iteration(P, gamma=1.0, theta=1e-10):\n",
        "    V = np.zeros(len(P), dtype=np.float64)\n",
        "    while True:\n",
        "      Q=np.zeros((len(P),len(P[0])),dtype=np.float64)\n",
        "      for s in range(len(P)):\n",
        "        for a in range(len(P[s])):\n",
        "          for prob, next_state, reward, done in P[s][a]:\n",
        "            Q[s][a]+=prob*(reward+gamma*V[next_state]*(not done))\n",
        "      if np.max(np.abs(V-np.max(Q,axis=1)))<theta:\n",
        "        break\n",
        "      V=np.max(Q,axis=1)\n",
        "    pi=lambda s: {s:a for s,a in enumerate(np.argmax(Q,axis=1))}[s]\n",
        "    return V, pi"
      ],
      "metadata": {
        "id": "QG7aiC6nKCh1"
      },
      "execution_count": 19,
      "outputs": []
    },
    {
      "cell_type": "code",
      "source": [
        "# Finding the optimal policy\n",
        "V_best_v, pi_best_v = value_iteration(P, gamma=0.99)"
      ],
      "metadata": {
        "id": "OEgivV81Kqsl"
      },
      "execution_count": 20,
      "outputs": []
    },
    {
      "cell_type": "code",
      "source": [
        "# Printing the policy\n",
        "print(\"Name: Krithick Vivekananda\\nRegister Number: 212223240075\")\n",
        "print('Optimal policy and state-value function (VI):')\n",
        "print_policy(pi_best_v, P)"
      ],
      "metadata": {
        "colab": {
          "base_uri": "https://localhost:8080/"
        },
        "id": "9Bwaum-LKr8w",
        "outputId": "5e6a76ba-6799-4bfa-fa01-2707eaad0bce"
      },
      "execution_count": 21,
      "outputs": [
        {
          "output_type": "stream",
          "name": "stdout",
          "text": [
            "Name: Krithick Vivekananda\n",
            "Register Number: 212223240075\n",
            "Optimal policy and state-value function (VI):\n",
            "Policy:\n",
            "|           | 01      > | 02      < | 03      < |\n",
            "|           | 05      > | 06      < | 07      ^ |\n",
            "| 08      v | 09      ^ |           |           |\n",
            "| 12      < |           | 14      < |           |\n"
          ]
        }
      ]
    },
    {
      "cell_type": "code",
      "source": [
        "# Printing the success rate and the mean return\n",
        "print('Reaches goal {:.2f}%. Obtains an average undiscounted return of {:.4f}.'.format(\n",
        "    probability_success(env, pi_best_v, goal_state=goal_state)*100,\n",
        "    mean_return(env, pi_best_v)))"
      ],
      "metadata": {
        "colab": {
          "base_uri": "https://localhost:8080/"
        },
        "id": "usaB-_seLPqP",
        "outputId": "c8a23cf3-54de-4bba-9c88-6f318539882f"
      },
      "execution_count": 24,
      "outputs": [
        {
          "output_type": "stream",
          "name": "stdout",
          "text": [
            "Reaches goal 100.00%. Obtains an average undiscounted return of 1.0000.\n"
          ]
        }
      ]
    },
    {
      "cell_type": "code",
      "source": [
        "# Printing the state value function\n",
        "print_state_value_function(V_best_v, P, prec=4)"
      ],
      "metadata": {
        "colab": {
          "base_uri": "https://localhost:8080/"
        },
        "id": "E0pd3QSJtf8o",
        "outputId": "91694182-db7f-4c16-dde0-dbe1c3b2175f"
      },
      "execution_count": 25,
      "outputs": [
        {
          "output_type": "stream",
          "name": "stdout",
          "text": [
            "State-value function:\n",
            "|           | 01 0.8761 | 02 0.8848 | 03 0.8701 |\n",
            "|           | 05 0.8939 | 06 0.9203 | 07 0.8819 |\n",
            "| 08 0.8611 | 09 0.9125 |           |           |\n",
            "| 12 0.8357 |           | 14 0.4975 |           |\n"
          ]
        }
      ]
    }
  ]
}